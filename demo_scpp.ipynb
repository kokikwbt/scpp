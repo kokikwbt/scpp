{
 "metadata": {
  "language_info": {
   "codemirror_mode": {
    "name": "ipython",
    "version": 3
   },
   "file_extension": ".py",
   "mimetype": "text/x-python",
   "name": "python",
   "nbconvert_exporter": "python",
   "pygments_lexer": "ipython3",
   "version": "3.8.5"
  },
  "orig_nbformat": 2,
  "kernelspec": {
   "name": "python3",
   "display_name": "Python 3",
   "language": "python"
  }
 },
 "nbformat": 4,
 "nbformat_minor": 2,
 "cells": [
  {
   "source": [
    "# SCPP: DEMO"
   ],
   "cell_type": "markdown",
   "metadata": {}
  },
  {
   "cell_type": "code",
   "execution_count": 1,
   "metadata": {},
   "outputs": [],
   "source": [
    "import matplotlib.pyplot as plt\n",
    "import pandas as pd\n",
    "import scpp_new as scpp\n",
    "import seaborn as sns"
   ]
  },
  {
   "cell_type": "code",
   "execution_count": 2,
   "metadata": {},
   "outputs": [
    {
     "output_type": "execute_result",
     "data": {
      "text/plain": [
       "6817"
      ]
     },
     "metadata": {},
     "execution_count": 2
    }
   ],
   "source": [
    "data = pd.read_csv('dat/scpp_trans_1.csv')\n",
    "data = data.sample(100).sort_values('date_id').reset_index()\n",
    "# data['user_id'].nunique()\n",
    "data['user_id'].max()\n"
   ]
  },
  {
   "cell_type": "code",
   "execution_count": 3,
   "metadata": {
    "tags": []
   },
   "outputs": [
    {
     "output_type": "stream",
     "name": "stderr",
     "text": [
      "100%|██████████| 10/10 [00:00<00:00, 169.38it/s]\n",
      "1it [00:00, 1711.96it/s]\n",
      "100%|██████████| 10/10 [00:00<00:00, 170.08it/s]\n",
      "1it [00:00, 1626.33it/s]\n",
      "iteration = 1\n",
      "gamma = 1.2050803336123463\n",
      "beta  = 0.00016615662365903784\n",
      "\n",
      "100%|██████████| 10/10 [00:00<00:00, 175.86it/s]\n",
      "1it [00:00, 1791.67it/s]\n",
      "iteration = 2\n",
      "gamma = 1.81058221626798\n",
      "beta  = 1e-10\n",
      "\n",
      "100%|██████████| 10/10 [00:00<00:00, 188.13it/s]\n",
      "1it [00:00, 1815.72it/s]\n",
      "iteration = 3\n",
      "gamma = 8.390704263067166\n",
      "beta  = 1e-10\n",
      "\n",
      "100%|██████████| 10/10 [00:00<00:00, 186.75it/s]\n",
      "1it [00:00, 1375.18it/s]\n",
      "iteration = 4\n",
      "gamma = 3.7485962744639982\n",
      "beta  = 1e-10\n",
      "\n",
      "100%|██████████| 10/10 [00:00<00:00, 187.64it/s]\n",
      "1it [00:00, 1628.86it/s]\n",
      "iteration = 5\n",
      "gamma = 27.182041451057405\n",
      "beta  = 1e-10\n",
      "\n",
      "100%|██████████| 10/10 [00:00<00:00, 188.21it/s]\n",
      "1it [00:00, 1733.18it/s]\n",
      "iteration = 6\n",
      "gamma = 13.10876252045397\n",
      "beta  = 1e-10\n",
      "\n",
      "100%|██████████| 10/10 [00:00<00:00, 186.98it/s]\n",
      "1it [00:00, 1764.54it/s]\n",
      "iteration = 7\n",
      "gamma = 6.089820229397747\n",
      "beta  = 1e-10\n",
      "\n",
      "100%|██████████| 10/10 [00:00<00:00, 187.27it/s]\n",
      "1it [00:00, 1791.67it/s]\n",
      "iteration = 8\n",
      "gamma = 47.61818602358622\n",
      "beta  = 1e-10\n",
      "\n",
      "100%|██████████| 10/10 [00:00<00:00, 187.23it/s]\n",
      "1it [00:00, 1709.87it/s]\n",
      "iteration = 9\n",
      "gamma = 23.31937722930294\n",
      "beta  = 1e-10\n",
      "\n",
      "\n",
      "iteration = 10\n",
      "gamma = 11.180248351658122\n",
      "beta  = 1e-10\n"
     ]
    }
   ],
   "source": [
    "model = scpp.SCPP()\n",
    "model.fit(data, gamma=1, beta=1, a=1, b=1, max_iter=10)\n"
   ]
  },
  {
   "cell_type": "code",
   "execution_count": 4,
   "metadata": {},
   "outputs": [],
   "source": [
    "from scipy.special import digamma, gammaln\n"
   ]
  },
  {
   "cell_type": "code",
   "execution_count": 6,
   "metadata": {},
   "outputs": [
    {
     "output_type": "stream",
     "name": "stdout",
     "text": [
      "(4982, 4981)\n[0. 0. 0. ... 0. 0. 4.]\n"
     ]
    },
    {
     "output_type": "execute_result",
     "data": {
      "text/plain": [
       "-330.56024837214926"
      ]
     },
     "metadata": {},
     "execution_count": 6
    }
   ],
   "source": [
    "beta = 1\n",
    "print(model.M.shape)\n",
    "print(model.M.sum(axis=1))\n",
    "# (model.M < 0).sum()\n",
    "# model.M.sum()\n",
    "# digamma(model.M + 1).sum()\n",
    "# n = (digamma(model.M + beta) - digamma(beta)).sum()\n",
    "# d = (digamma(model.M.sum(axis=1) + beta * 6000) - digamma(beta * 6000)).sum()\n",
    "n = digamma(model.M + beta).sum() - digamma(beta)\n",
    "d = digamma(model.M.sum(axis=1) + beta * 6000).sum() - digamma(beta * 6000)\n",
    "n / d\n",
    "# model.Z\n",
    "# plt.plot(model.M.sum(axis=1))\n",
    "# plt.plot(digamma(model.M + 1).ravel())"
   ]
  },
  {
   "cell_type": "code",
   "execution_count": 7,
   "metadata": {},
   "outputs": [
    {
     "output_type": "execute_result",
     "data": {
      "text/plain": [
       "-0.5772156649015329"
      ]
     },
     "metadata": {},
     "execution_count": 7
    }
   ],
   "source": [
    "digamma(1)"
   ]
  },
  {
   "cell_type": "code",
   "execution_count": 6,
   "metadata": {},
   "outputs": [
    {
     "output_type": "execute_result",
     "data": {
      "text/plain": [
       "[array([-1, -1, -1, -1, -1, -1, -1, -1, -1, -1], dtype=int32)]"
      ]
     },
     "metadata": {},
     "execution_count": 6
    }
   ],
   "source": [
    "model.Z"
   ]
  },
  {
   "cell_type": "code",
   "execution_count": 7,
   "metadata": {},
   "outputs": [
    {
     "output_type": "execute_result",
     "data": {
      "text/plain": [
       "array([1.        , 1.        , 1.        , ..., 1.        , 1.        ,\n",
       "       0.91789987])"
      ]
     },
     "metadata": {},
     "execution_count": 7
    }
   ],
   "source": [
    "model.alpha_u\n",
    "# plt.plot(model.alpha_u / model.alpha_u.sum())"
   ]
  },
  {
   "cell_type": "code",
   "execution_count": null,
   "metadata": {},
   "outputs": [],
   "source": []
  }
 ]
}