{
 "metadata": {
  "language_info": {
   "codemirror_mode": {
    "name": "ipython",
    "version": 3
   },
   "file_extension": ".py",
   "mimetype": "text/x-python",
   "name": "python",
   "nbconvert_exporter": "python",
   "pygments_lexer": "ipython3",
   "version": "3.7.4"
  },
  "orig_nbformat": 2,
  "kernelspec": {
   "name": "python3",
   "display_name": "Python 3",
   "language": "python"
  }
 },
 "nbformat": 4,
 "nbformat_minor": 2,
 "cells": [
  {
   "source": [
    "# SCPP: DEMO"
   ],
   "cell_type": "markdown",
   "metadata": {}
  },
  {
   "cell_type": "code",
   "execution_count": 1,
   "metadata": {},
   "outputs": [],
   "source": [
    "import matplotlib.pyplot as plt\n",
    "import pandas as pd\n",
    "import scpp_new as scpp\n",
    "import seaborn as sns"
   ]
  },
  {
   "cell_type": "code",
   "execution_count": 2,
   "metadata": {},
   "outputs": [
    {
     "output_type": "execute_result",
     "data": {
      "text/plain": [
       "6861"
      ]
     },
     "metadata": {},
     "execution_count": 2
    }
   ],
   "source": [
    "data = pd.read_csv('dat/scpp_trans_1.csv')\n",
    "data = data.sample(100).sort_values('date_id').reset_index()\n",
    "# data['user_id'].nunique()\n",
    "# data['user_id'].max()\n",
    "data"
   ]
  },
  {
   "cell_type": "code",
   "execution_count": 3,
   "metadata": {
    "tags": []
   },
   "outputs": [
    {
     "output_type": "stream",
     "name": "stderr",
     "text": [
      "Item 1: 100%|██████████| 100/100 [00:08<00:00, 11.37it/s]\n",
      "Item 1:  10%|█         | 10/100 [00:00<00:00, 94.32it/s]\n",
      "====================\n",
      "Iteration = 1\n",
      "====================\n",
      "gamma = 0.6564551422319476\n",
      "beta  = 0.0016414608673711562\n",
      "llh   = -7860.666804790177\n",
      "\n",
      "Item 1: 100%|██████████| 100/100 [00:08<00:00, 11.45it/s]\n",
      "Item 1:  10%|█         | 10/100 [00:00<00:00, 93.54it/s]\n",
      "====================\n",
      "Iteration = 2\n",
      "====================\n",
      "gamma = 0.7425857279442274\n",
      "beta  = 0.006068777685693211\n",
      "llh   = -7981.25929821434\n",
      "\n",
      "Item 1: 100%|██████████| 100/100 [00:09<00:00, 11.07it/s]\n",
      "Item 1:  10%|█         | 10/100 [00:00<00:00, 95.42it/s]\n",
      "====================\n",
      "Iteration = 3\n",
      "====================\n",
      "gamma = 0.788060322824996\n",
      "beta  = 0.0038812901260656296\n",
      "llh   = -7933.969573568669\n",
      "\n",
      "Item 1: 100%|██████████| 100/100 [00:09<00:00, 11.09it/s]\n",
      "Item 1:  10%|█         | 10/100 [00:00<00:01, 86.72it/s]\n",
      "====================\n",
      "Iteration = 4\n",
      "====================\n",
      "gamma = 0.7402831609877495\n",
      "beta  = 0.004420814514401256\n",
      "llh   = -7878.325014043134\n",
      "\n",
      "Item 1: 100%|██████████| 100/100 [00:09<00:00, 10.60it/s]\n",
      "Item 1:  10%|█         | 10/100 [00:00<00:00, 98.66it/s]\n",
      "====================\n",
      "Iteration = 5\n",
      "====================\n",
      "gamma = 0.7626728406538678\n",
      "beta  = 0.004248409704758013\n",
      "llh   = -7915.471053563524\n",
      "\n",
      "Item 1: 100%|██████████| 100/100 [00:08<00:00, 11.40it/s]\n",
      "Item 1:  10%|█         | 10/100 [00:00<00:00, 96.50it/s]\n",
      "====================\n",
      "Iteration = 6\n",
      "====================\n",
      "gamma = 0.7078748335142817\n",
      "beta  = 0.004299621538163354\n",
      "llh   = -7896.191338216653\n",
      "\n",
      "Item 1: 100%|██████████| 100/100 [00:08<00:00, 11.23it/s]\n",
      "Item 1:  10%|█         | 10/100 [00:00<00:00, 96.48it/s]\n",
      "====================\n",
      "Iteration = 7\n",
      "====================\n",
      "gamma = 0.6583655351325455\n",
      "beta  = 0.004284048414082558\n",
      "llh   = -7933.100739581976\n",
      "\n",
      "Item 1: 100%|██████████| 100/100 [00:09<00:00, 10.55it/s]\n",
      "Item 1:  10%|█         | 10/100 [00:00<00:01, 85.53it/s]\n",
      "====================\n",
      "Iteration = 8\n",
      "====================\n",
      "gamma = 0.5853162603228395\n",
      "beta  = 0.004288755435169377\n",
      "llh   = -7943.126884030586\n",
      "\n",
      "Item 1: 100%|██████████| 100/100 [00:08<00:00, 11.14it/s]\n",
      "Item 1:  10%|█         | 10/100 [00:00<00:00, 97.96it/s]\n",
      "====================\n",
      "Iteration = 9\n",
      "====================\n",
      "gamma = 0.5796413492906487\n",
      "beta  = 0.004287307140588897\n",
      "llh   = -7995.517846176808\n",
      "\n",
      "Item 1: 100%|██████████| 100/100 [00:08<00:00, 11.21it/s]\n",
      "\n",
      "====================\n",
      "Iteration = 10\n",
      "====================\n",
      "gamma = 0.5517933627530771\n",
      "beta  = 0.004287744301297322\n",
      "llh   = -8001.333429269027\n",
      "\n"
     ]
    }
   ],
   "source": [
    "model = scpp.SCPP()\n",
    "model.fit(data, gamma=1, beta=1, a=1, b=1, max_iter=10)\n",
    "model.save('out/tmp/')"
   ]
  },
  {
   "cell_type": "code",
   "execution_count": 4,
   "metadata": {},
   "outputs": [],
   "source": [
    "from scipy.special import digamma, gammaln\n"
   ]
  },
  {
   "cell_type": "code",
   "execution_count": 6,
   "metadata": {},
   "outputs": [
    {
     "output_type": "stream",
     "name": "stdout",
     "text": [
      "(4982, 4981)\n[0. 0. 0. ... 0. 0. 4.]\n"
     ]
    },
    {
     "output_type": "execute_result",
     "data": {
      "text/plain": [
       "-330.56024837214926"
      ]
     },
     "metadata": {},
     "execution_count": 6
    }
   ],
   "source": [
    "beta = 1\n",
    "print(model.M.shape)\n",
    "print(model.M.sum(axis=1))\n",
    "# (model.M < 0).sum()\n",
    "# model.M.sum()\n",
    "# digamma(model.M + 1).sum()\n",
    "# n = (digamma(model.M + beta) - digamma(beta)).sum()\n",
    "# d = (digamma(model.M.sum(axis=1) + beta * 6000) - digamma(beta * 6000)).sum()\n",
    "n = digamma(model.M + beta).sum() - digamma(beta)\n",
    "d = digamma(model.M.sum(axis=1) + beta * 6000).sum() - digamma(beta * 6000)\n",
    "n / d\n",
    "# model.Z\n",
    "# plt.plot(model.M.sum(axis=1))\n",
    "# plt.plot(digamma(model.M + 1).ravel())"
   ]
  },
  {
   "cell_type": "code",
   "execution_count": 7,
   "metadata": {},
   "outputs": [
    {
     "output_type": "execute_result",
     "data": {
      "text/plain": [
       "-0.5772156649015329"
      ]
     },
     "metadata": {},
     "execution_count": 7
    }
   ],
   "source": [
    "digamma(1)"
   ]
  },
  {
   "cell_type": "code",
   "execution_count": 6,
   "metadata": {},
   "outputs": [
    {
     "output_type": "execute_result",
     "data": {
      "text/plain": [
       "[array([-1, -1, -1, -1, -1, -1, -1, -1, -1, -1], dtype=int32)]"
      ]
     },
     "metadata": {},
     "execution_count": 6
    }
   ],
   "source": [
    "model.Z"
   ]
  },
  {
   "cell_type": "code",
   "execution_count": 7,
   "metadata": {},
   "outputs": [
    {
     "output_type": "execute_result",
     "data": {
      "text/plain": [
       "array([1.        , 1.        , 1.        , ..., 1.        , 1.        ,\n",
       "       0.91789987])"
      ]
     },
     "metadata": {},
     "execution_count": 7
    }
   ],
   "source": [
    "model.alpha_u\n",
    "# plt.plot(model.alpha_u / model.alpha_u.sum())"
   ]
  },
  {
   "cell_type": "code",
   "execution_count": null,
   "metadata": {},
   "outputs": [],
   "source": []
  }
 ]
}