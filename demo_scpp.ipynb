{
 "metadata": {
  "language_info": {
   "codemirror_mode": {
    "name": "ipython",
    "version": 3
   },
   "file_extension": ".py",
   "mimetype": "text/x-python",
   "name": "python",
   "nbconvert_exporter": "python",
   "pygments_lexer": "ipython3",
   "version": "3.7.4-final"
  },
  "orig_nbformat": 2,
  "kernelspec": {
   "name": "python3",
   "display_name": "Python 3",
   "language": "python"
  }
 },
 "nbformat": 4,
 "nbformat_minor": 2,
 "cells": [
  {
   "source": [
    "# SCPP: DEMO"
   ],
   "cell_type": "markdown",
   "metadata": {}
  },
  {
   "cell_type": "code",
   "execution_count": 1,
   "metadata": {},
   "outputs": [],
   "source": [
    "import os\n",
    "import shutil\n",
    "import matplotlib.pyplot as plt\n",
    "import pandas as pd\n",
    "import seaborn as sns\n",
    "import util\n",
    "import scpp"
   ]
  },
  {
   "cell_type": "code",
   "execution_count": 2,
   "metadata": {},
   "outputs": [],
   "source": [
    "outdir = 'out/tmp/'\n",
    "if os.path.exists(outdir):\n",
    "    shutil.rmtree(outdir)\n",
    "os.makedirs(outdir)"
   ]
  },
  {
   "cell_type": "code",
   "execution_count": 3,
   "metadata": {},
   "outputs": [
    {
     "output_type": "execute_result",
     "data": {
      "text/plain": [
       "          date  trans_amount  date_id  item_id  user_id\n",
       "0   2011-05-19           101        0        0     4067\n",
       "1   2011-05-19            63        0        0     2675\n",
       "2   2011-05-22            81        3        0      405\n",
       "3   2011-06-01            48       13        0     3732\n",
       "4   2011-06-03            77       15        0     5460\n",
       "..         ...           ...      ...      ...      ...\n",
       "495 2015-03-08            96     1389        0      415\n",
       "496 2015-03-08            79     1389        0     2865\n",
       "497 2015-03-12            65     1393        0     1205\n",
       "498 2015-03-13            54     1394        0     1741\n",
       "499 2015-03-14            35     1395        0     2865\n",
       "\n",
       "[500 rows x 5 columns]"
      ],
      "text/html": "<div>\n<style scoped>\n    .dataframe tbody tr th:only-of-type {\n        vertical-align: middle;\n    }\n\n    .dataframe tbody tr th {\n        vertical-align: top;\n    }\n\n    .dataframe thead th {\n        text-align: right;\n    }\n</style>\n<table border=\"1\" class=\"dataframe\">\n  <thead>\n    <tr style=\"text-align: right;\">\n      <th></th>\n      <th>date</th>\n      <th>trans_amount</th>\n      <th>date_id</th>\n      <th>item_id</th>\n      <th>user_id</th>\n    </tr>\n  </thead>\n  <tbody>\n    <tr>\n      <th>0</th>\n      <td>2011-05-19</td>\n      <td>101</td>\n      <td>0</td>\n      <td>0</td>\n      <td>4067</td>\n    </tr>\n    <tr>\n      <th>1</th>\n      <td>2011-05-19</td>\n      <td>63</td>\n      <td>0</td>\n      <td>0</td>\n      <td>2675</td>\n    </tr>\n    <tr>\n      <th>2</th>\n      <td>2011-05-22</td>\n      <td>81</td>\n      <td>3</td>\n      <td>0</td>\n      <td>405</td>\n    </tr>\n    <tr>\n      <th>3</th>\n      <td>2011-06-01</td>\n      <td>48</td>\n      <td>13</td>\n      <td>0</td>\n      <td>3732</td>\n    </tr>\n    <tr>\n      <th>4</th>\n      <td>2011-06-03</td>\n      <td>77</td>\n      <td>15</td>\n      <td>0</td>\n      <td>5460</td>\n    </tr>\n    <tr>\n      <th>...</th>\n      <td>...</td>\n      <td>...</td>\n      <td>...</td>\n      <td>...</td>\n      <td>...</td>\n    </tr>\n    <tr>\n      <th>495</th>\n      <td>2015-03-08</td>\n      <td>96</td>\n      <td>1389</td>\n      <td>0</td>\n      <td>415</td>\n    </tr>\n    <tr>\n      <th>496</th>\n      <td>2015-03-08</td>\n      <td>79</td>\n      <td>1389</td>\n      <td>0</td>\n      <td>2865</td>\n    </tr>\n    <tr>\n      <th>497</th>\n      <td>2015-03-12</td>\n      <td>65</td>\n      <td>1393</td>\n      <td>0</td>\n      <td>1205</td>\n    </tr>\n    <tr>\n      <th>498</th>\n      <td>2015-03-13</td>\n      <td>54</td>\n      <td>1394</td>\n      <td>0</td>\n      <td>1741</td>\n    </tr>\n    <tr>\n      <th>499</th>\n      <td>2015-03-14</td>\n      <td>35</td>\n      <td>1395</td>\n      <td>0</td>\n      <td>2865</td>\n    </tr>\n  </tbody>\n</table>\n<p>500 rows × 5 columns</p>\n</div>"
     },
     "metadata": {},
     "execution_count": 3
    }
   ],
   "source": [
    "data = pd.read_csv('dat/scpp_trans_1.csv')\n",
    "data = util.sample_events(data, 500)\n",
    "data = util.encode_timestamp(data, 'date', 'D')\n",
    "data"
   ]
  },
  {
   "cell_type": "code",
   "execution_count": 4,
   "metadata": {},
   "outputs": [
    {
     "output_type": "execute_result",
     "data": {
      "text/plain": [
       "date            425\n",
       "trans_amount     91\n",
       "date_id         425\n",
       "item_id           1\n",
       "user_id         483\n",
       "dtype: int64"
      ]
     },
     "metadata": {},
     "execution_count": 4
    }
   ],
   "source": [
    "data.nunique()"
   ]
  },
  {
   "cell_type": "code",
   "execution_count": 5,
   "metadata": {
    "tags": []
   },
   "outputs": [
    {
     "output_type": "stream",
     "name": "stderr",
     "text": [
      "Item 1: 100%|██████████| 500/500 [00:03<00:00, 149.72it/s]\n",
      "Item 1:   9%|▉         | 45/500 [00:00<00:01, 444.28it/s]\n",
      "\n",
      "====================\n",
      " Iteration = 1\n",
      "====================\n",
      " gamma = 0.7521876481431291\n",
      " beta  = 0.008198755872841891\n",
      " llh   = -10846.555348788854\n",
      "\n",
      "Item 1: 100%|██████████| 500/500 [00:03<00:00, 166.00it/s]\n",
      "\n",
      "\n",
      "====================\n",
      " Iteration = 2\n",
      "====================\n",
      " gamma = 0.9709347837639739\n",
      " beta  = 0.017696507752957703\n",
      " llh   = -12301.84899708815\n",
      "\n"
     ]
    }
   ],
   "source": [
    "model = scpp.SCPP()\n",
    "model.fit(data, gamma=1, beta=1, a=1, b=1, max_iter=2)\n",
    "model.save('out/tmp/')"
   ]
  },
  {
   "cell_type": "code",
   "execution_count": null,
   "metadata": {},
   "outputs": [],
   "source": []
  }
 ]
}